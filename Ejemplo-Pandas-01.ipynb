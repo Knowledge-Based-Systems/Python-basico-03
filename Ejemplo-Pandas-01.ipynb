{
 "cells": [
  {
   "cell_type": "code",
   "execution_count": null,
   "metadata": {},
   "outputs": [],
   "source": [
    "import pandas as pd\n"
   ]
  },
  {
   "cell_type": "code",
   "execution_count": null,
   "metadata": {},
   "outputs": [],
   "source": [
    "ls"
   ]
  },
  {
   "cell_type": "code",
   "execution_count": null,
   "metadata": {},
   "outputs": [],
   "source": [
    "ls data/"
   ]
  },
  {
   "cell_type": "code",
   "execution_count": null,
   "metadata": {},
   "outputs": [],
   "source": [
    "# Antes de ejecutar esta línea de código, explorar el archivo a través de un editor de texto\n",
    "# leer el archivo csv, a través de read_csv\n",
    "# Además, usamos el parámetro sep=\"|\", debido a que ese caracter es usado como separador de contenido\n",
    "\n",
    "datos = pd.read_csv(\"data/Listado-Instituciones-Educativas-z7.csv\", sep=\"|\")\n"
   ]
  },
  {
   "cell_type": "code",
   "execution_count": null,
   "metadata": {},
   "outputs": [],
   "source": [
    "datos.keys()"
   ]
  },
  {
   "cell_type": "code",
   "execution_count": null,
   "metadata": {},
   "outputs": [],
   "source": [
    "datos"
   ]
  },
  {
   "cell_type": "markdown",
   "metadata": {},
   "source": [
    "## Retos"
   ]
  },
  {
   "cell_type": "code",
   "execution_count": null,
   "metadata": {},
   "outputs": [],
   "source": [
    "# presentar el número de filas y columnas del dataframe"
   ]
  },
  {
   "cell_type": "code",
   "execution_count": null,
   "metadata": {},
   "outputs": [],
   "source": [
    "resultado = datos[['Nombre de la Institución Educativa', 'Provincia']]"
   ]
  },
  {
   "cell_type": "code",
   "execution_count": null,
   "metadata": {},
   "outputs": [],
   "source": [
    "# En función del dataframe resultado. Es posible que le ayude realizar un .head para explorar el dataset\n",
    "# presentar los registros e la provincia de Loja\n"
   ]
  },
  {
   "cell_type": "code",
   "execution_count": null,
   "metadata": {},
   "outputs": [],
   "source": [
    "# exportar el data frame resultado a un archivo .csv, llamado resultado_establecimientos.csv\n"
   ]
  },
  {
   "cell_type": "code",
   "execution_count": null,
   "metadata": {},
   "outputs": [],
   "source": [
    "# analice el siguiente código\n",
    "\n",
    "diccionario_columnas = {'Código AMIE': 'AMIE', \n",
    "'Nombre de la Institución Educativa': 'Nombre_Institucion', \n",
    "'Código División Política Administrativa Provincia': 'Codigo_Provincia', \n",
    "'Provincia': 'Provincia', \n",
    "'Código División Política Administrativa  Cantón': 'Codigo_Canton', \n",
    "'Cantón': 'Canton', \n",
    "'Código División Política Administrativa  Parroquia': 'Codigo_Parroquia', \n",
    "'Parroquia': 'Parroquia', \n",
    "'Zona Administrativa': 'Zona_Administrativa', \n",
    "'Denominación del Distrito': 'Denominacion_Distrito', \n",
    "'Código de Distrito': 'Codigo_Distrito', \n",
    "'Código de Circuito Educativo': 'Codigo_Circuito_Educativo', \n",
    "'Unidad Administrativa Circuital (propuesta de ubicación)': 'Unidad_Administrativa_Circuital', \n",
    "'Casos excepcionales': 'Casos_excepcionales', \n",
    "'Sostenimiento': 'Sostenimiento', \n",
    "'Régimen Escolar': 'Regimen_Escolar', \n",
    "'Jurisdicción': 'Jurisdiccion', \n",
    "'Tipo de Educación': 'Tipo_de_Educacion', \n",
    "'Modalidad': 'Modalidad', \n",
    "'Jornada': 'Jornada', \n",
    "'Nivel': 'Nivel', \n",
    "'Etnia': 'Etnia', \n",
    "'Nacionalidad': 'Nacionalidad', \n",
    "'Pueblo': 'Pueblo', \n",
    "'Institución Educativa georeferenciada': 'Georeferencia', \n",
    "'Institución responsable': 'Institucion_responsable', \n",
    "'Acceso (terrestre/ aéreo/fluvial)': 'Tipo_Acceso', \n",
    "'Número de estudiantes': 'Numero_de_estudiantes', \n",
    "'Número de docentes': 'Numero_de_docentes', \n",
    "'Estado': 'Estado'}\n",
    "\n",
    "for d in diccionario_columnas:\n",
    "    print(diccionario_columnas[d])\n",
    "\n",
    "lista_columnas = []\n",
    "for d in diccionario_columnas:\n",
    "    lista_columnas.append(diccionario_columnas[d])\n"
   ]
  },
  {
   "cell_type": "code",
   "execution_count": null,
   "metadata": {},
   "outputs": [],
   "source": [
    "# cambiar los nombres de las columnas del dataframe datos\n",
    "# actuales nombres de columnas\n",
    "print(\"Nombre de columnas actuales\")\n",
    "print(datos.keys())\n",
    "# Nombre de columnas para actualizar\n",
    "print(\"---------------------------------------\")\n",
    "print(\"Nombre de columnas para actualizar\")\n",
    "print(lista_columnas)"
   ]
  },
  {
   "cell_type": "code",
   "execution_count": null,
   "metadata": {},
   "outputs": [],
   "source": [
    "# ejecutar la siguiente línea de código\n",
    "\n",
    "datos.columns = lista_columnas"
   ]
  },
  {
   "cell_type": "code",
   "execution_count": null,
   "metadata": {},
   "outputs": [],
   "source": [
    "# explorar el dataframe datos a través de .head\n"
   ]
  },
  {
   "cell_type": "code",
   "execution_count": null,
   "metadata": {},
   "outputs": [],
   "source": [
    "# presentar los nuevos nombre del dataframe datos"
   ]
  },
  {
   "cell_type": "code",
   "execution_count": null,
   "metadata": {},
   "outputs": [],
   "source": []
  }
 ],
 "metadata": {
  "kernelspec": {
   "display_name": "Python 3",
   "language": "python",
   "name": "python3"
  },
  "language_info": {
   "codemirror_mode": {
    "name": "ipython",
    "version": 3
   },
   "file_extension": ".py",
   "mimetype": "text/x-python",
   "name": "python",
   "nbconvert_exporter": "python",
   "pygments_lexer": "ipython3",
   "version": "3.9.2"
  }
 },
 "nbformat": 4,
 "nbformat_minor": 1
}
