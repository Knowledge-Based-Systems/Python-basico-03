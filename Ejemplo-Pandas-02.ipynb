{
 "cells": [
  {
   "cell_type": "code",
   "execution_count": null,
   "metadata": {},
   "outputs": [],
   "source": [
    "import pandas as pd\n"
   ]
  },
  {
   "cell_type": "code",
   "execution_count": null,
   "metadata": {},
   "outputs": [],
   "source": [
    "ls"
   ]
  },
  {
   "cell_type": "code",
   "execution_count": null,
   "metadata": {},
   "outputs": [],
   "source": [
    "ls data/"
   ]
  },
  {
   "cell_type": "code",
   "execution_count": null,
   "metadata": {},
   "outputs": [],
   "source": [
    "# Antes de ejecutar esta línea de código, explorar el archivo a través de un editor de texto\n",
    "# leer el archivo json, a través de read_json\n",
    "\n",
    "datos = pd.read_json(\"data/instituciones_zona_7.json\")\n"
   ]
  },
  {
   "cell_type": "code",
   "execution_count": null,
   "metadata": {},
   "outputs": [],
   "source": [
    "datos.keys()"
   ]
  },
  {
   "cell_type": "code",
   "execution_count": null,
   "metadata": {},
   "outputs": [],
   "source": [
    "datos"
   ]
  },
  {
   "cell_type": "markdown",
   "metadata": {},
   "source": [
    "## Retos"
   ]
  },
  {
   "cell_type": "code",
   "execution_count": null,
   "metadata": {},
   "outputs": [],
   "source": [
    "# presentar el número de filas y columnas del dataframe datos\n",
    "datos.shape"
   ]
  },
  {
   "cell_type": "code",
   "execution_count": null,
   "metadata": {},
   "outputs": [],
   "source": [
    "# En función del dataframe datos, es posible que le ayude realizar un .head para explorar el dataset,\n",
    "# presentar los registros e la provincia de Loja y los registros de Zamora Chinchipe\n"
   ]
  },
  {
   "cell_type": "code",
   "execution_count": null,
   "metadata": {},
   "outputs": [],
   "source": [
    "# explorar el dataframe datos a través de .head\n"
   ]
  },
  {
   "cell_type": "code",
   "execution_count": null,
   "metadata": {},
   "outputs": [],
   "source": [
    "# Generar un archivo .csv que contenga únicamente las características:\n",
    "# Nombre_Institucion\n",
    "# Provincia \n",
    "# Canton\n",
    "# Parroaquia\n",
    "# Número de estudiantes\n",
    "# Número de docentes\n",
    "\n",
    "# Siempre que cumpla con la condición: el número de estudiantes debe ser mayor a 20 y menor o igual a 100\n",
    "# El archivo debe tener el nombre: instituciones_0001.csv"
   ]
  },
  {
   "cell_type": "code",
   "execution_count": null,
   "metadata": {},
   "outputs": [],
   "source": [
    "# Generar un archivo .csv que contenga únicamente las características:\n",
    "# Nombre_Institucion\n",
    "# Provincia \n",
    "# Canton\n",
    "# Parroaquia\n",
    "# Número de estudiantes\n",
    "# Número de docentes\n",
    "\n",
    "# Siempre que cumpla con la condición: el número de docentes debe ser mayor a 1 y menor o igual a 50\n",
    "# El archivo debe tener el nombre: instituciones_0002.csv"
   ]
  }
 ],
 "metadata": {
  "kernelspec": {
   "display_name": "Python 3",
   "language": "python",
   "name": "python3"
  },
  "language_info": {
   "codemirror_mode": {
    "name": "ipython",
    "version": 3
   },
   "file_extension": ".py",
   "mimetype": "text/x-python",
   "name": "python",
   "nbconvert_exporter": "python",
   "pygments_lexer": "ipython3",
   "version": "3.9.2"
  }
 },
 "nbformat": 4,
 "nbformat_minor": 1
}
